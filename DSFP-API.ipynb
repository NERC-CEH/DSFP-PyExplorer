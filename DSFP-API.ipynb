{
 "cells": [
  {
   "cell_type": "code",
   "execution_count": 2,
   "metadata": {},
   "outputs": [],
   "source": [
    "import requests\n",
    "import pandas as pd\n",
    "import numpy as np\n",
    "from matplotlib import pyplot as plt\n",
    "from io import StringIO\n",
    "from pandas import json_normalize\n",
    "import pykrev as pk "
   ]
  },
  {
   "cell_type": "code",
   "execution_count": 3,
   "metadata": {},
   "outputs": [
    {
     "name": "stdout",
     "output_type": "stream",
     "text": [
      "There are 85 collections.\n",
      "There are 32 participating labs.\n"
     ]
    },
    {
     "data": {
      "text/html": [
       "<div>\n",
       "<style scoped>\n",
       "    .dataframe tbody tr th:only-of-type {\n",
       "        vertical-align: middle;\n",
       "    }\n",
       "\n",
       "    .dataframe tbody tr th {\n",
       "        vertical-align: top;\n",
       "    }\n",
       "\n",
       "    .dataframe thead th {\n",
       "        text-align: right;\n",
       "    }\n",
       "</style>\n",
       "<table border=\"1\" class=\"dataframe\">\n",
       "  <thead>\n",
       "    <tr style=\"text-align: right;\">\n",
       "      <th></th>\n",
       "      <th>uuid</th>\n",
       "      <th>internal_id</th>\n",
       "      <th>title</th>\n",
       "      <th>participating_labs</th>\n",
       "    </tr>\n",
       "  </thead>\n",
       "  <tbody>\n",
       "    <tr>\n",
       "      <th>0</th>\n",
       "      <td>27df0a3e-3578-4a30-b9e4-1505f9da010d</td>\n",
       "      <td>333</td>\n",
       "      <td>LIFE APEX</td>\n",
       "      <td>Trace Analysis Mass Spectrometry (TrAMS), Envi...</td>\n",
       "    </tr>\n",
       "    <tr>\n",
       "      <th>1</th>\n",
       "      <td>7d20c4fb-64d0-4e29-bd51-331253cd5bc4</td>\n",
       "      <td>348</td>\n",
       "      <td>JDS4</td>\n",
       "      <td>Trace Analysis Mass Spectrometry (TrAMS), Anal...</td>\n",
       "    </tr>\n",
       "    <tr>\n",
       "      <th>2</th>\n",
       "      <td>980267da-34e0-5002-98c9-da2dcd3b6eec</td>\n",
       "      <td>1183</td>\n",
       "      <td>LIFE APEX GC</td>\n",
       "      <td>Trace Analysis Mass Spectrometry (TrAMS)</td>\n",
       "    </tr>\n",
       "    <tr>\n",
       "      <th>3</th>\n",
       "      <td>cf959f47-c2c0-5f37-bfc3-49b86b4d4b33</td>\n",
       "      <td>1184</td>\n",
       "      <td>Black-tailed godwit samples GC</td>\n",
       "      <td>Trace Analysis Mass Spectrometry (TrAMS)</td>\n",
       "    </tr>\n",
       "    <tr>\n",
       "      <th>4</th>\n",
       "      <td>379ec238-d44f-50e5-8d1f-74ff7a749463</td>\n",
       "      <td>1185</td>\n",
       "      <td>EODY</td>\n",
       "      <td>Trace Analysis Mass Spectrometry (TrAMS)</td>\n",
       "    </tr>\n",
       "    <tr>\n",
       "      <th>...</th>\n",
       "      <td>...</td>\n",
       "      <td>...</td>\n",
       "      <td>...</td>\n",
       "      <td>...</td>\n",
       "    </tr>\n",
       "    <tr>\n",
       "      <th>80</th>\n",
       "      <td>efa704d5-3592-4e82-ad78-d4d24884ebd2</td>\n",
       "      <td>2593</td>\n",
       "      <td>PARC Soil EDCs campaign LC NKUA</td>\n",
       "      <td>Trace Analysis Mass Spectrometry (TrAMS)</td>\n",
       "    </tr>\n",
       "    <tr>\n",
       "      <th>81</th>\n",
       "      <td>e8ff3e9e-dd37-4817-b7c6-e18d942ae407</td>\n",
       "      <td>2611</td>\n",
       "      <td>NTS of airborne organic substances in PDMS-foa...</td>\n",
       "      <td>Environmental Cheminformatics - LCSB</td>\n",
       "    </tr>\n",
       "    <tr>\n",
       "      <th>82</th>\n",
       "      <td>cfd3a5a5-38f6-44a7-8f5a-1c9591d078f3</td>\n",
       "      <td>2623</td>\n",
       "      <td>NTS of airborne organic substances in PDMS-foa...</td>\n",
       "      <td>Trace Analysis Mass Spectrometry (TrAMS)</td>\n",
       "    </tr>\n",
       "    <tr>\n",
       "      <th>83</th>\n",
       "      <td>7b77cda3-4f15-4ead-af4c-527e61384e92</td>\n",
       "      <td>2639</td>\n",
       "      <td>PARC Soil EDCs campaign LC BfG</td>\n",
       "      <td>German Federal Institute of Hydrology (BfG)</td>\n",
       "    </tr>\n",
       "    <tr>\n",
       "      <th>84</th>\n",
       "      <td>e7ac9af3-d05c-4345-ad9b-a4dc56eef6a6</td>\n",
       "      <td>2641</td>\n",
       "      <td>PARC Surface water EDCs campaign BfG</td>\n",
       "      <td>German Federal Institute of Hydrology (BfG)</td>\n",
       "    </tr>\n",
       "  </tbody>\n",
       "</table>\n",
       "<p>85 rows × 4 columns</p>\n",
       "</div>"
      ],
      "text/plain": [
       "                                    uuid internal_id  \\\n",
       "0   27df0a3e-3578-4a30-b9e4-1505f9da010d         333   \n",
       "1   7d20c4fb-64d0-4e29-bd51-331253cd5bc4         348   \n",
       "2   980267da-34e0-5002-98c9-da2dcd3b6eec        1183   \n",
       "3   cf959f47-c2c0-5f37-bfc3-49b86b4d4b33        1184   \n",
       "4   379ec238-d44f-50e5-8d1f-74ff7a749463        1185   \n",
       "..                                   ...         ...   \n",
       "80  efa704d5-3592-4e82-ad78-d4d24884ebd2        2593   \n",
       "81  e8ff3e9e-dd37-4817-b7c6-e18d942ae407        2611   \n",
       "82  cfd3a5a5-38f6-44a7-8f5a-1c9591d078f3        2623   \n",
       "83  7b77cda3-4f15-4ead-af4c-527e61384e92        2639   \n",
       "84  e7ac9af3-d05c-4345-ad9b-a4dc56eef6a6        2641   \n",
       "\n",
       "                                                title  \\\n",
       "0                                           LIFE APEX   \n",
       "1                                                JDS4   \n",
       "2                                        LIFE APEX GC   \n",
       "3                      Black-tailed godwit samples GC   \n",
       "4                                                EODY   \n",
       "..                                                ...   \n",
       "80                    PARC Soil EDCs campaign LC NKUA   \n",
       "81  NTS of airborne organic substances in PDMS-foa...   \n",
       "82  NTS of airborne organic substances in PDMS-foa...   \n",
       "83                     PARC Soil EDCs campaign LC BfG   \n",
       "84               PARC Surface water EDCs campaign BfG   \n",
       "\n",
       "                                   participating_labs  \n",
       "0   Trace Analysis Mass Spectrometry (TrAMS), Envi...  \n",
       "1   Trace Analysis Mass Spectrometry (TrAMS), Anal...  \n",
       "2            Trace Analysis Mass Spectrometry (TrAMS)  \n",
       "3            Trace Analysis Mass Spectrometry (TrAMS)  \n",
       "4            Trace Analysis Mass Spectrometry (TrAMS)  \n",
       "..                                                ...  \n",
       "80           Trace Analysis Mass Spectrometry (TrAMS)  \n",
       "81               Environmental Cheminformatics - LCSB  \n",
       "82           Trace Analysis Mass Spectrometry (TrAMS)  \n",
       "83        German Federal Institute of Hydrology (BfG)  \n",
       "84        German Federal Institute of Hydrology (BfG)  \n",
       "\n",
       "[85 rows x 4 columns]"
      ]
     },
     "execution_count": 3,
     "metadata": {},
     "output_type": "execute_result"
    }
   ],
   "source": [
    "#1 get collections\n",
    "url=\"https://dsfp.norman-data.eu/api/1/metastore/schemas/dataset/all\"\n",
    "r = requests.get(url)\n",
    "json = r.json()\n",
    "dataframe = pd.DataFrame(json)\n",
    "print(f\"There are {len(dataframe['internal_id'].unique())} collections.\")\n",
    "print(f\"There are {len(dataframe['participating_labs'].unique())} participating labs.\")\n",
    "dataframe"
   ]
  },
  {
   "cell_type": "code",
   "execution_count": 4,
   "metadata": {},
   "outputs": [],
   "source": [
    "# 3 collection files\n",
    "for iid in dataframe['internal_id'].unique():\n",
    "    url = f\"https://dsfp.norman-data.eu/data/{iid}/files.csv\"\n",
    "    r = requests.get(url)\n",
    "    csv_file = StringIO(r.content.decode('utf-8'))\n",
    "    files = pd.read_csv(csv_file)\n",
    "    break"
   ]
  },
  {
   "cell_type": "code",
   "execution_count": 5,
   "metadata": {},
   "outputs": [],
   "source": [
    "#4 component lists\n",
    "for cl in files['component_list']:\n",
    "    url=cl\n",
    "    r = requests.get(url)\n",
    "    json = r.json()\n",
    "    components = json_normalize(r.json(),record_path='fullscan')\n",
    "    break\n"
   ]
  },
  {
   "cell_type": "code",
   "execution_count": 11,
   "metadata": {},
   "outputs": [
    {
     "data": {
      "text/plain": [
       "(<Figure size 640x480 with 1 Axes>,\n",
       " <Axes: xlabel='m/z', ylabel='Counts'>,\n",
       " (503.40739214712374, 512.769503370997, 221.11730279520216))"
      ]
     },
     "execution_count": 11,
     "metadata": {},
     "output_type": "execute_result"
    },
    {
     "data": {
      "image/png": "[encoded data removed]",
      "text/plain": [
       "<Figure size 640x480 with 1 Axes>"
      ]
     },
     "metadata": {},
     "output_type": "display_data"
    }
   ],
   "source": [
    "pk.mass_histogram(pk.msTuple(components['molecular_formula'],components['max_intensity'],components['mz']),method='mz', summary_statistics=True, density=False)"
   ]
  }
 ],
 "metadata": {
  "kernelspec": {
   "display_name": "Python 3",
   "language": "python",
   "name": "python3"
  },
  "language_info": {
   "codemirror_mode": {
    "name": "ipython",
    "version": 3
   },
   "file_extension": ".py",
   "mimetype": "text/x-python",
   "name": "python",
   "nbconvert_exporter": "python",
   "pygments_lexer": "ipython3",
   "version": "3.9.21"
  }
 },
 "nbformat": 4,
 "nbformat_minor": 2
}
