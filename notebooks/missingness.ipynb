{
 "cells": [
  {
   "cell_type": "code",
   "execution_count": null,
   "id": "362538ee",
   "metadata": {},
   "outputs": [],
   "source": [
    "import pandas as pd\n",
    "import pykrev as pk\n",
    "import numpy as np\n",
    "import seaborn as sns\n",
    "from sklearn import decomposition\n",
    "from matplotlib import pyplot as plt\n",
    "import missingno as msno\n",
    "from matplotlib.lines import Line2D\n",
    "import math\n",
    "import time\n",
    "from sklearn.cluster import KMeans\n",
    "\n",
    "\n"
   ]
  },
  {
   "cell_type": "code",
   "execution_count": 209,
   "id": "ad88e3c5",
   "metadata": {},
   "outputs": [],
   "source": [
    "#read the ordination data \n",
    "ordinationData = pd.read_csv(\"../ordination/333_ordination.csv\",index_col=0)"
   ]
  },
  {
   "cell_type": "code",
   "execution_count": 210,
   "id": "0f0f2267",
   "metadata": {},
   "outputs": [],
   "source": [
    "#read the metadata\n",
    "metaData = pd.read_csv(\"../metadata/333_metadata.csv\",index_col=0)"
   ]
  },
  {
   "cell_type": "code",
   "execution_count": 211,
   "id": "1bb73929",
   "metadata": {},
   "outputs": [],
   "source": [
    "#create an empty dataframe to make the pca plots in\n",
    "plotData = pd.DataFrame()\n",
    "plotData['sample_id'] = ordinationData.index\n",
    "plotData = pd.merge(plotData,metaData, how='left', left_on='sample_id', right_on='ID')"
   ]
  },
  {
   "cell_type": "code",
   "execution_count": 260,
   "id": "a216a44a",
   "metadata": {},
   "outputs": [
    {
     "name": "stdout",
     "output_type": "stream",
     "text": [
      "206 207 413 413\n"
     ]
    }
   ],
   "source": [
    "#filter out empty or completely full columns\n",
    "N = ordinationData.shape[0]\n",
    "P = 0.5 # the required proportion of data\n",
    "M = int(np.floor(N * P)) #the minimum number of recorded values for a sample (round down)\n",
    "U =  int(np.ceil(N * (1-P))) #the maximum number of recorded values for a sample (round up)\n",
    "print(M,U,M+U,N)\n",
    "boolA = (ordinationData.notnull().sum(axis=0) >= M) & (ordinationData.notnull().sum(axis=0) <= U)\n",
    "filterData = ordinationData.loc[:,boolA]\n",
    "C = filterData.shape[1]\n",
    "columns = filterData.columns\n"
   ]
  },
  {
   "cell_type": "code",
   "execution_count": 252,
   "id": "83a007fa",
   "metadata": {},
   "outputs": [],
   "source": [
    "#figure out how many pairwise combinations are possible \n",
    "C_combinations = math.factorial(C)/(2*math.factorial(C-2))\n",
    "shuffles = C_combinations/C\n",
    "#figure out how many times you need to shuffle the isnull matrix, round up \n",
    "shuffles = int(np.round(shuffles))"
   ]
  },
  {
   "cell_type": "code",
   "execution_count": 253,
   "id": "4b22bede",
   "metadata": {},
   "outputs": [
    {
     "name": "stdout",
     "output_type": "stream",
     "text": [
      "1.1298799514770508\n"
     ]
    }
   ],
   "source": [
    "notnull = np.array(filterData.notnull(),dtype=int)\n",
    "notnull_shift = np.array(filterData.notnull(),dtype=int)\n",
    "exclusives = set()\n",
    "tic = time.time()\n",
    "for i in range (0,shuffles):\n",
    "    notnull_shift = np.concatenate((notnull_shift[:, -1:], notnull_shift[:, :-1]), axis=1)\n",
    "    boolB = np.max(notnull + notnull_shift,axis=0) == 1\n",
    "    exclusives.update(columns[boolB])\n",
    "toc = time.time()\n",
    "print(toc-tic)\n"
   ]
  },
  {
   "cell_type": "code",
   "execution_count": 258,
   "id": "68ace74a",
   "metadata": {},
   "outputs": [],
   "source": [
    "exclusiveData = ordinationData.loc[:,list(exclusives)]"
   ]
  },
  {
   "cell_type": "code",
   "execution_count": 317,
   "id": "5b5e7af3",
   "metadata": {},
   "outputs": [
    {
     "name": "stderr",
     "output_type": "stream",
     "text": [
      "/home/ezrkit/.local/lib/python3.9/site-packages/sklearn/cluster/_kmeans.py:870: FutureWarning: The default value of `n_init` will change from 10 to 'auto' in 1.4. Set the value of `n_init` explicitly to suppress the warning\n",
      "  warnings.warn(\n"
     ]
    }
   ],
   "source": [
    "kmeans = KMeans(n_clusters=50)\n",
    "clusters = kmeans.fit_predict(exclusiveData.notnull().transpose())\n"
   ]
  },
  {
   "cell_type": "code",
   "execution_count": 318,
   "id": "836b4fee",
   "metadata": {},
   "outputs": [
    {
     "data": {
      "text/plain": [
       "Index(['NS00010274', 'NS00056492', 'NS00001813', 'NS00039344', 'NS00049754',\n",
       "       'NS00024812', 'NS00005426', 'NS00005418', 'NS00014563', 'NS00028219',\n",
       "       'NS00010746', 'NS00037965', 'NS00022090', 'NS00059070', 'NS00034845'],\n",
       "      dtype='object')"
      ]
     },
     "execution_count": 318,
     "metadata": {},
     "output_type": "execute_result"
    }
   ],
   "source": [
    "exclusiveData.columns[clusters==1]"
   ]
  },
  {
   "cell_type": "code",
   "execution_count": 319,
   "id": "5973d3aa",
   "metadata": {},
   "outputs": [
    {
     "data": {
      "text/plain": [
       "Index(['NS00048111', 'NS00104144', 'NS00060995', 'NS00081755', 'NS00102676',\n",
       "       'NS00035152', 'NS00044515'],\n",
       "      dtype='object')"
      ]
     },
     "execution_count": 319,
     "metadata": {},
     "output_type": "execute_result"
    }
   ],
   "source": [
    "exclusiveData.columns[clusters==0]"
   ]
  },
  {
   "cell_type": "code",
   "execution_count": 320,
   "id": "a2c67ba6",
   "metadata": {},
   "outputs": [],
   "source": [
    "\n",
    "# Sort columns based on cluster membership \n",
    "sorted_indices = np.argsort(clusters)\n",
    "sorted_matrix = exclusiveData.iloc[:, sorted_indices]\n"
   ]
  },
  {
   "cell_type": "code",
   "execution_count": 321,
   "id": "47b0309e",
   "metadata": {},
   "outputs": [
    {
     "data": {
      "text/html": [
       "<div>\n",
       "<style scoped>\n",
       "    .dataframe tbody tr th:only-of-type {\n",
       "        vertical-align: middle;\n",
       "    }\n",
       "\n",
       "    .dataframe tbody tr th {\n",
       "        vertical-align: top;\n",
       "    }\n",
       "\n",
       "    .dataframe thead th {\n",
       "        text-align: right;\n",
       "    }\n",
       "</style>\n",
       "<table border=\"1\" class=\"dataframe\">\n",
       "  <thead>\n",
       "    <tr style=\"text-align: right;\">\n",
       "      <th></th>\n",
       "      <th>NS00044515</th>\n",
       "      <th>NS00035152</th>\n",
       "      <th>NS00081755</th>\n",
       "      <th>NS00048111</th>\n",
       "      <th>NS00104144</th>\n",
       "      <th>NS00060995</th>\n",
       "      <th>NS00102676</th>\n",
       "      <th>NS00010746</th>\n",
       "      <th>NS00059070</th>\n",
       "      <th>NS00056492</th>\n",
       "      <th>...</th>\n",
       "      <th>NS00024165</th>\n",
       "      <th>NS00025070</th>\n",
       "      <th>NS00102326</th>\n",
       "      <th>NS00068687</th>\n",
       "      <th>NS00022541</th>\n",
       "      <th>NS00039235</th>\n",
       "      <th>NS00028244</th>\n",
       "      <th>NS00069600</th>\n",
       "      <th>NS00010591</th>\n",
       "      <th>NS00013947</th>\n",
       "    </tr>\n",
       "  </thead>\n",
       "  <tbody>\n",
       "    <tr>\n",
       "      <th>19139</th>\n",
       "      <td>1.574608e+05</td>\n",
       "      <td>1.574608e+05</td>\n",
       "      <td>1.574608e+05</td>\n",
       "      <td>1.574608e+05</td>\n",
       "      <td>1.574608e+05</td>\n",
       "      <td>NaN</td>\n",
       "      <td>1.574608e+05</td>\n",
       "      <td>NaN</td>\n",
       "      <td>NaN</td>\n",
       "      <td>NaN</td>\n",
       "      <td>...</td>\n",
       "      <td>331619.631812</td>\n",
       "      <td>1.109524e+06</td>\n",
       "      <td>1.109524e+06</td>\n",
       "      <td>121344.649624</td>\n",
       "      <td>331619.631812</td>\n",
       "      <td>108915.588923</td>\n",
       "      <td>331619.631812</td>\n",
       "      <td>55017.256</td>\n",
       "      <td>868986.482667</td>\n",
       "      <td>868986.482667</td>\n",
       "    </tr>\n",
       "    <tr>\n",
       "      <th>19162</th>\n",
       "      <td>NaN</td>\n",
       "      <td>NaN</td>\n",
       "      <td>NaN</td>\n",
       "      <td>NaN</td>\n",
       "      <td>NaN</td>\n",
       "      <td>NaN</td>\n",
       "      <td>NaN</td>\n",
       "      <td>9.904984e+05</td>\n",
       "      <td>21896.334212</td>\n",
       "      <td>6.173907e+06</td>\n",
       "      <td>...</td>\n",
       "      <td>NaN</td>\n",
       "      <td>NaN</td>\n",
       "      <td>NaN</td>\n",
       "      <td>NaN</td>\n",
       "      <td>NaN</td>\n",
       "      <td>NaN</td>\n",
       "      <td>NaN</td>\n",
       "      <td>NaN</td>\n",
       "      <td>NaN</td>\n",
       "      <td>NaN</td>\n",
       "    </tr>\n",
       "    <tr>\n",
       "      <th>19877</th>\n",
       "      <td>NaN</td>\n",
       "      <td>NaN</td>\n",
       "      <td>NaN</td>\n",
       "      <td>NaN</td>\n",
       "      <td>NaN</td>\n",
       "      <td>NaN</td>\n",
       "      <td>NaN</td>\n",
       "      <td>2.990045e+05</td>\n",
       "      <td>45450.781630</td>\n",
       "      <td>4.451255e+05</td>\n",
       "      <td>...</td>\n",
       "      <td>NaN</td>\n",
       "      <td>NaN</td>\n",
       "      <td>NaN</td>\n",
       "      <td>NaN</td>\n",
       "      <td>NaN</td>\n",
       "      <td>NaN</td>\n",
       "      <td>NaN</td>\n",
       "      <td>NaN</td>\n",
       "      <td>NaN</td>\n",
       "      <td>NaN</td>\n",
       "    </tr>\n",
       "    <tr>\n",
       "      <th>19960</th>\n",
       "      <td>8.208010e+04</td>\n",
       "      <td>4.136600e+05</td>\n",
       "      <td>8.208010e+04</td>\n",
       "      <td>8.208010e+04</td>\n",
       "      <td>8.208010e+04</td>\n",
       "      <td>214381.970791</td>\n",
       "      <td>8.208010e+04</td>\n",
       "      <td>NaN</td>\n",
       "      <td>NaN</td>\n",
       "      <td>NaN</td>\n",
       "      <td>...</td>\n",
       "      <td>96693.226378</td>\n",
       "      <td>5.876658e+05</td>\n",
       "      <td>5.876658e+05</td>\n",
       "      <td>299652.000000</td>\n",
       "      <td>96693.226378</td>\n",
       "      <td>180819.938088</td>\n",
       "      <td>96693.226378</td>\n",
       "      <td>213278.448</td>\n",
       "      <td>768431.941964</td>\n",
       "      <td>768431.941964</td>\n",
       "    </tr>\n",
       "    <tr>\n",
       "      <th>19999</th>\n",
       "      <td>NaN</td>\n",
       "      <td>NaN</td>\n",
       "      <td>NaN</td>\n",
       "      <td>NaN</td>\n",
       "      <td>NaN</td>\n",
       "      <td>NaN</td>\n",
       "      <td>NaN</td>\n",
       "      <td>8.227956e+05</td>\n",
       "      <td>66118.374000</td>\n",
       "      <td>3.855859e+05</td>\n",
       "      <td>...</td>\n",
       "      <td>NaN</td>\n",
       "      <td>NaN</td>\n",
       "      <td>NaN</td>\n",
       "      <td>NaN</td>\n",
       "      <td>NaN</td>\n",
       "      <td>NaN</td>\n",
       "      <td>NaN</td>\n",
       "      <td>NaN</td>\n",
       "      <td>NaN</td>\n",
       "      <td>NaN</td>\n",
       "    </tr>\n",
       "    <tr>\n",
       "      <th>...</th>\n",
       "      <td>...</td>\n",
       "      <td>...</td>\n",
       "      <td>...</td>\n",
       "      <td>...</td>\n",
       "      <td>...</td>\n",
       "      <td>...</td>\n",
       "      <td>...</td>\n",
       "      <td>...</td>\n",
       "      <td>...</td>\n",
       "      <td>...</td>\n",
       "      <td>...</td>\n",
       "      <td>...</td>\n",
       "      <td>...</td>\n",
       "      <td>...</td>\n",
       "      <td>...</td>\n",
       "      <td>...</td>\n",
       "      <td>...</td>\n",
       "      <td>...</td>\n",
       "      <td>...</td>\n",
       "      <td>...</td>\n",
       "      <td>...</td>\n",
       "    </tr>\n",
       "    <tr>\n",
       "      <th>21529</th>\n",
       "      <td>NaN</td>\n",
       "      <td>NaN</td>\n",
       "      <td>NaN</td>\n",
       "      <td>NaN</td>\n",
       "      <td>NaN</td>\n",
       "      <td>NaN</td>\n",
       "      <td>NaN</td>\n",
       "      <td>4.678579e+05</td>\n",
       "      <td>107876.029333</td>\n",
       "      <td>5.180327e+06</td>\n",
       "      <td>...</td>\n",
       "      <td>NaN</td>\n",
       "      <td>NaN</td>\n",
       "      <td>NaN</td>\n",
       "      <td>NaN</td>\n",
       "      <td>NaN</td>\n",
       "      <td>NaN</td>\n",
       "      <td>NaN</td>\n",
       "      <td>NaN</td>\n",
       "      <td>NaN</td>\n",
       "      <td>NaN</td>\n",
       "    </tr>\n",
       "    <tr>\n",
       "      <th>37</th>\n",
       "      <td>2.005579e+06</td>\n",
       "      <td>2.005579e+06</td>\n",
       "      <td>2.005579e+06</td>\n",
       "      <td>2.005579e+06</td>\n",
       "      <td>2.005579e+06</td>\n",
       "      <td>373525.549091</td>\n",
       "      <td>2.005579e+06</td>\n",
       "      <td>NaN</td>\n",
       "      <td>NaN</td>\n",
       "      <td>NaN</td>\n",
       "      <td>...</td>\n",
       "      <td>81680.000000</td>\n",
       "      <td>1.739262e+06</td>\n",
       "      <td>1.739262e+06</td>\n",
       "      <td>135532.000000</td>\n",
       "      <td>81680.000000</td>\n",
       "      <td>145504.067351</td>\n",
       "      <td>81680.000000</td>\n",
       "      <td>208956.000</td>\n",
       "      <td>287640.919059</td>\n",
       "      <td>287640.919059</td>\n",
       "    </tr>\n",
       "    <tr>\n",
       "      <th>21545</th>\n",
       "      <td>NaN</td>\n",
       "      <td>NaN</td>\n",
       "      <td>NaN</td>\n",
       "      <td>NaN</td>\n",
       "      <td>NaN</td>\n",
       "      <td>NaN</td>\n",
       "      <td>NaN</td>\n",
       "      <td>1.034880e+06</td>\n",
       "      <td>527759.090370</td>\n",
       "      <td>7.358635e+06</td>\n",
       "      <td>...</td>\n",
       "      <td>NaN</td>\n",
       "      <td>NaN</td>\n",
       "      <td>NaN</td>\n",
       "      <td>NaN</td>\n",
       "      <td>NaN</td>\n",
       "      <td>NaN</td>\n",
       "      <td>NaN</td>\n",
       "      <td>NaN</td>\n",
       "      <td>NaN</td>\n",
       "      <td>NaN</td>\n",
       "    </tr>\n",
       "    <tr>\n",
       "      <th>21517</th>\n",
       "      <td>NaN</td>\n",
       "      <td>NaN</td>\n",
       "      <td>NaN</td>\n",
       "      <td>NaN</td>\n",
       "      <td>NaN</td>\n",
       "      <td>NaN</td>\n",
       "      <td>NaN</td>\n",
       "      <td>5.912077e+05</td>\n",
       "      <td>18914.187676</td>\n",
       "      <td>2.758610e+05</td>\n",
       "      <td>...</td>\n",
       "      <td>NaN</td>\n",
       "      <td>NaN</td>\n",
       "      <td>NaN</td>\n",
       "      <td>NaN</td>\n",
       "      <td>NaN</td>\n",
       "      <td>NaN</td>\n",
       "      <td>NaN</td>\n",
       "      <td>NaN</td>\n",
       "      <td>NaN</td>\n",
       "      <td>NaN</td>\n",
       "    </tr>\n",
       "    <tr>\n",
       "      <th>19909</th>\n",
       "      <td>NaN</td>\n",
       "      <td>NaN</td>\n",
       "      <td>NaN</td>\n",
       "      <td>NaN</td>\n",
       "      <td>NaN</td>\n",
       "      <td>NaN</td>\n",
       "      <td>NaN</td>\n",
       "      <td>2.898732e+05</td>\n",
       "      <td>952878.295556</td>\n",
       "      <td>1.853182e+05</td>\n",
       "      <td>...</td>\n",
       "      <td>NaN</td>\n",
       "      <td>NaN</td>\n",
       "      <td>NaN</td>\n",
       "      <td>NaN</td>\n",
       "      <td>NaN</td>\n",
       "      <td>NaN</td>\n",
       "      <td>NaN</td>\n",
       "      <td>NaN</td>\n",
       "      <td>NaN</td>\n",
       "      <td>NaN</td>\n",
       "    </tr>\n",
       "  </tbody>\n",
       "</table>\n",
       "<p>413 rows × 469 columns</p>\n",
       "</div>"
      ],
      "text/plain": [
       "         NS00044515    NS00035152    NS00081755    NS00048111    NS00104144  \\\n",
       "19139  1.574608e+05  1.574608e+05  1.574608e+05  1.574608e+05  1.574608e+05   \n",
       "19162           NaN           NaN           NaN           NaN           NaN   \n",
       "19877           NaN           NaN           NaN           NaN           NaN   \n",
       "19960  8.208010e+04  4.136600e+05  8.208010e+04  8.208010e+04  8.208010e+04   \n",
       "19999           NaN           NaN           NaN           NaN           NaN   \n",
       "...             ...           ...           ...           ...           ...   \n",
       "21529           NaN           NaN           NaN           NaN           NaN   \n",
       "37     2.005579e+06  2.005579e+06  2.005579e+06  2.005579e+06  2.005579e+06   \n",
       "21545           NaN           NaN           NaN           NaN           NaN   \n",
       "21517           NaN           NaN           NaN           NaN           NaN   \n",
       "19909           NaN           NaN           NaN           NaN           NaN   \n",
       "\n",
       "          NS00060995    NS00102676    NS00010746     NS00059070    NS00056492  \\\n",
       "19139            NaN  1.574608e+05           NaN            NaN           NaN   \n",
       "19162            NaN           NaN  9.904984e+05   21896.334212  6.173907e+06   \n",
       "19877            NaN           NaN  2.990045e+05   45450.781630  4.451255e+05   \n",
       "19960  214381.970791  8.208010e+04           NaN            NaN           NaN   \n",
       "19999            NaN           NaN  8.227956e+05   66118.374000  3.855859e+05   \n",
       "...              ...           ...           ...            ...           ...   \n",
       "21529            NaN           NaN  4.678579e+05  107876.029333  5.180327e+06   \n",
       "37     373525.549091  2.005579e+06           NaN            NaN           NaN   \n",
       "21545            NaN           NaN  1.034880e+06  527759.090370  7.358635e+06   \n",
       "21517            NaN           NaN  5.912077e+05   18914.187676  2.758610e+05   \n",
       "19909            NaN           NaN  2.898732e+05  952878.295556  1.853182e+05   \n",
       "\n",
       "       ...     NS00024165    NS00025070    NS00102326     NS00068687  \\\n",
       "19139  ...  331619.631812  1.109524e+06  1.109524e+06  121344.649624   \n",
       "19162  ...            NaN           NaN           NaN            NaN   \n",
       "19877  ...            NaN           NaN           NaN            NaN   \n",
       "19960  ...   96693.226378  5.876658e+05  5.876658e+05  299652.000000   \n",
       "19999  ...            NaN           NaN           NaN            NaN   \n",
       "...    ...            ...           ...           ...            ...   \n",
       "21529  ...            NaN           NaN           NaN            NaN   \n",
       "37     ...   81680.000000  1.739262e+06  1.739262e+06  135532.000000   \n",
       "21545  ...            NaN           NaN           NaN            NaN   \n",
       "21517  ...            NaN           NaN           NaN            NaN   \n",
       "19909  ...            NaN           NaN           NaN            NaN   \n",
       "\n",
       "          NS00022541     NS00039235     NS00028244  NS00069600     NS00010591  \\\n",
       "19139  331619.631812  108915.588923  331619.631812   55017.256  868986.482667   \n",
       "19162            NaN            NaN            NaN         NaN            NaN   \n",
       "19877            NaN            NaN            NaN         NaN            NaN   \n",
       "19960   96693.226378  180819.938088   96693.226378  213278.448  768431.941964   \n",
       "19999            NaN            NaN            NaN         NaN            NaN   \n",
       "...              ...            ...            ...         ...            ...   \n",
       "21529            NaN            NaN            NaN         NaN            NaN   \n",
       "37      81680.000000  145504.067351   81680.000000  208956.000  287640.919059   \n",
       "21545            NaN            NaN            NaN         NaN            NaN   \n",
       "21517            NaN            NaN            NaN         NaN            NaN   \n",
       "19909            NaN            NaN            NaN         NaN            NaN   \n",
       "\n",
       "          NS00013947  \n",
       "19139  868986.482667  \n",
       "19162            NaN  \n",
       "19877            NaN  \n",
       "19960  768431.941964  \n",
       "19999            NaN  \n",
       "...              ...  \n",
       "21529            NaN  \n",
       "37     287640.919059  \n",
       "21545            NaN  \n",
       "21517            NaN  \n",
       "19909            NaN  \n",
       "\n",
       "[413 rows x 469 columns]"
      ]
     },
     "execution_count": 321,
     "metadata": {},
     "output_type": "execute_result"
    }
   ],
   "source": [
    "sorted_matrix"
   ]
  },
  {
   "cell_type": "code",
   "execution_count": 322,
   "id": "1762e7c4",
   "metadata": {},
   "outputs": [
    {
     "data": {
      "text/plain": [
       "<matplotlib.image.AxesImage at 0x7f68cd272a60>"
      ]
     },
     "execution_count": 322,
     "metadata": {},
     "output_type": "execute_result"
    },
    {
     "data": {
      "image/png": "[encoded data removed]",
      "text/plain": [
       "<Figure size 640x480 with 1 Axes>"
      ]
     },
     "metadata": {},
     "output_type": "display_data"
    }
   ],
   "source": [
    "plt.imshow(sorted_matrix.notnull(),cmap='gray', interpolation='None')"
   ]
  },
  {
   "cell_type": "code",
   "execution_count": null,
   "id": "1aef966c",
   "metadata": {},
   "outputs": [
    {
     "ename": "KeyboardInterrupt",
     "evalue": "",
     "output_type": "error",
     "traceback": [
      "\u001b[0;31m---------------------------------------------------------------------------\u001b[0m",
      "\u001b[0;31mKeyboardInterrupt\u001b[0m                         Traceback (most recent call last)",
      "Cell \u001b[0;32mIn[55], line 12\u001b[0m\n\u001b[1;32m     10\u001b[0m notnulli \u001b[38;5;241m=\u001b[39mnotnull[:,idx]\n\u001b[1;32m     11\u001b[0m notnulli \u001b[38;5;241m=\u001b[39m notnulli[:, np\u001b[38;5;241m.\u001b[39mnewaxis]\n\u001b[0;32m---> 12\u001b[0m diff \u001b[38;5;241m=\u001b[39m \u001b[43misnull\u001b[49m\u001b[43m \u001b[49m\u001b[38;5;241;43m-\u001b[39;49m\u001b[43m \u001b[49m\u001b[43mnotnulli\u001b[49m\n\u001b[1;32m     13\u001b[0m \u001b[38;5;28;01mif\u001b[39;00m \u001b[38;5;28mlen\u001b[39m(columns[diff\u001b[38;5;241m.\u001b[39msum(axis\u001b[38;5;241m=\u001b[39m\u001b[38;5;241m0\u001b[39m) \u001b[38;5;241m==\u001b[39m \u001b[38;5;241m0\u001b[39m]) \u001b[38;5;241m>\u001b[39m \u001b[38;5;241m0\u001b[39m:\n\u001b[1;32m     14\u001b[0m     exclusives\u001b[38;5;241m.\u001b[39mupdate(c)\n",
      "\u001b[0;31mKeyboardInterrupt\u001b[0m: "
     ]
    }
   ],
   "source": [
    "#find columns that perfectly predict eachother, we are just going to make a set of all of the columns that exhibit this behaviour\n",
    "columns = filterData.columns\n",
    "isnull = np.array(filterData.isna(),dtype=int)\n",
    "notnull = np.array(filterData.notnull(),dtype=int)\n",
    "for idx,c in enumerate(columns): \n",
    "    if c in exclusives:\n",
    "        pass\n",
    "    else:\n",
    "        notnulli = notnull[:,idx]\n",
    "        notnulli = notnulli[:, np.newaxis]\n",
    "        diff = isnull - notnulli\n",
    "        if len(columns[diff.sum(axis=0) == 0]) > 0:\n",
    "            exclusives.update(c)\n",
    "            exclusives.update(columns[diff.sum(axis=0) == 0])"
   ]
  },
  {
   "cell_type": "code",
   "execution_count": 61,
   "id": "694f20e0",
   "metadata": {},
   "outputs": [
    {
     "data": {
      "text/plain": [
       "array([[1, 1, 1, ..., 1, 1, 1],\n",
       "       [1, 1, 1, ..., 1, 1, 1],\n",
       "       [1, 1, 1, ..., 1, 1, 1],\n",
       "       ...,\n",
       "       [1, 1, 1, ..., 1, 1, 1],\n",
       "       [1, 1, 1, ..., 1, 1, 1],\n",
       "       [1, 1, 1, ..., 1, 1, 1]])"
      ]
     },
     "execution_count": 61,
     "metadata": {},
     "output_type": "execute_result"
    }
   ],
   "source": [
    "isnull | notnull"
   ]
  },
  {
   "cell_type": "code",
   "execution_count": 58,
   "id": "48a598f3",
   "metadata": {},
   "outputs": [
    {
     "data": {
      "text/plain": [
       "array([[1, 0, 0, ..., 0, 0, 0],\n",
       "       [0, 0, 0, ..., 0, 0, 0],\n",
       "       [0, 0, 0, ..., 0, 0, 0],\n",
       "       ...,\n",
       "       [0, 0, 0, ..., 0, 0, 0],\n",
       "       [1, 1, 0, ..., 0, 0, 0],\n",
       "       [0, 0, 0, ..., 0, 0, 0]])"
      ]
     },
     "execution_count": 58,
     "metadata": {},
     "output_type": "execute_result"
    }
   ],
   "source": [
    "notnull"
   ]
  },
  {
   "cell_type": "code",
   "execution_count": 52,
   "id": "11959898",
   "metadata": {},
   "outputs": [
    {
     "data": {
      "text/plain": [
       "{'a', 'b', 'c', 'd'}"
      ]
     },
     "execution_count": 52,
     "metadata": {},
     "output_type": "execute_result"
    }
   ],
   "source": [
    "test"
   ]
  },
  {
   "cell_type": "code",
   "execution_count": 15,
   "id": "34582ba3",
   "metadata": {},
   "outputs": [
    {
     "data": {
      "text/plain": [
       "0"
      ]
     },
     "execution_count": 15,
     "metadata": {},
     "output_type": "execute_result"
    }
   ],
   "source": [
    "\n",
    "#first get rid of anything thats always false or always true\n",
    "sum(boolA)"
   ]
  },
  {
   "cell_type": "code",
   "execution_count": null,
   "id": "1dc91348",
   "metadata": {},
   "outputs": [],
   "source": [
    "missing = ordinationData.iloc[:, [i for i, n in enumerate(np.var(ordinationData.isnull(), axis='rows')) if n > 0]]\n",
    "corr_mat = missing.isnull().corr()"
   ]
  }
 ],
 "metadata": {
  "kernelspec": {
   "display_name": "Python 3",
   "language": "python",
   "name": "python3"
  },
  "language_info": {
   "codemirror_mode": {
    "name": "ipython",
    "version": 3
   },
   "file_extension": ".py",
   "mimetype": "text/x-python",
   "name": "python",
   "nbconvert_exporter": "python",
   "pygments_lexer": "ipython3",
   "version": "3.9.21"
  }
 },
 "nbformat": 4,
 "nbformat_minor": 5
}
