{
 "cells": [
  {
   "cell_type": "code",
   "execution_count": 1,
   "id": "362538ee",
   "metadata": {},
   "outputs": [],
   "source": [
    "import pandas as pd\n",
    "import pykrev as pk\n",
    "import numpy as np\n",
    "import seaborn as sns\n",
    "from sklearn import decomposition\n",
    "from matplotlib import pyplot as plt\n",
    "import missingno as msno\n",
    "from matplotlib.lines import Line2D\n",
    "import concurrent.futures\n",
    "import tqdm\n",
    "\n"
   ]
  },
  {
   "cell_type": "code",
   "execution_count": 2,
   "id": "ad88e3c5",
   "metadata": {},
   "outputs": [],
   "source": [
    "#read the ordination data \n",
    "ordinationData = pd.read_csv(\"../ordination/333_ordination.csv\",index_col=0)"
   ]
  },
  {
   "cell_type": "code",
   "execution_count": 3,
   "id": "0f0f2267",
   "metadata": {},
   "outputs": [],
   "source": [
    "#read the metadata\n",
    "metaData = pd.read_csv(\"../metadata/333_metadata.csv\",index_col=0)"
   ]
  },
  {
   "cell_type": "code",
   "execution_count": 4,
   "id": "1bb73929",
   "metadata": {},
   "outputs": [],
   "source": [
    "#create an empty dataframe to make the pca plots in\n",
    "plotData = pd.DataFrame()\n",
    "plotData['sample_id'] = ordinationData.index\n",
    "plotData = pd.merge(plotData,metaData, how='left', left_on='sample_id', right_on='ID')"
   ]
  },
  {
   "cell_type": "code",
   "execution_count": 5,
   "id": "a216a44a",
   "metadata": {},
   "outputs": [],
   "source": [
    "#filter out empty or completely full columns\n",
    "N = ordinationData.shape[1]\n",
    "boolA = (ordinationData.isnull().sum(axis=1) == N) | (ordinationData.isnull().sum(axis=1) == 0)\n",
    "filterData = ordinationData[~boolA]"
   ]
  },
  {
   "cell_type": "code",
   "execution_count": 38,
   "id": "1aef966c",
   "metadata": {},
   "outputs": [
    {
     "data": {
      "text/plain": [
       "Index(['NS00012800', 'NS00018679', 'NS00065488', 'NS00013132', 'NS00076871',\n",
       "       'NS00003807', 'NS00096699', 'NS00018678', 'NS00062564', 'NS00062357',\n",
       "       'NS00082101', 'NS00066733', 'NS00009631', 'NS00002052', 'NS00027607',\n",
       "       'NS00005230'],\n",
       "      dtype='object')"
      ]
     },
     "execution_count": 38,
     "metadata": {},
     "output_type": "execute_result"
    }
   ],
   "source": [
    "#find columns that perfectly predict eachother \n",
    "columns = ordinationData.columns\n",
    "notnull = np.array(ordinationData.notnull().loc[:,columns[0]],dtype=int)\n",
    "isnull = np.array(ordinationData.isna(),dtype=int)\n",
    "notnull = notnull[:, np.newaxis]\n",
    "diff = isnull - notnull\n",
    "columns[diff.sum(axis=0) == 0]"
   ]
  },
  {
   "cell_type": "code",
   "execution_count": null,
   "id": "5243fb6c",
   "metadata": {},
   "outputs": [
    {
     "data": {
      "text/plain": [
       "Index(['NS00012800', 'NS00018679', 'NS00065488', 'NS00013132', 'NS00076871',\n",
       "       'NS00003807', 'NS00096699', 'NS00018678', 'NS00062564', 'NS00062357',\n",
       "       'NS00082101', 'NS00066733', 'NS00009631', 'NS00002052', 'NS00027607',\n",
       "       'NS00005230'],\n",
       "      dtype='object')"
      ]
     },
     "execution_count": 37,
     "metadata": {},
     "output_type": "execute_result"
    }
   ],
   "source": []
  },
  {
   "cell_type": "code",
   "execution_count": 40,
   "id": "11959898",
   "metadata": {},
   "outputs": [
    {
     "data": {
      "text/plain": [
       "19139    False\n",
       "19162     True\n",
       "19877     True\n",
       "19960     True\n",
       "19999     True\n",
       "         ...  \n",
       "21529     True\n",
       "37        True\n",
       "21545     True\n",
       "21517    False\n",
       "19909     True\n",
       "Name: NS00089894, Length: 413, dtype: bool"
      ]
     },
     "execution_count": 40,
     "metadata": {},
     "output_type": "execute_result"
    }
   ],
   "source": [
    "isnull.loc[:,c2]"
   ]
  },
  {
   "cell_type": "code",
   "execution_count": 15,
   "id": "34582ba3",
   "metadata": {},
   "outputs": [
    {
     "data": {
      "text/plain": [
       "0"
      ]
     },
     "execution_count": 15,
     "metadata": {},
     "output_type": "execute_result"
    }
   ],
   "source": [
    "\n",
    "#first get rid of anything thats always false or always true\n",
    "sum(boolA)"
   ]
  },
  {
   "cell_type": "code",
   "execution_count": null,
   "id": "1dc91348",
   "metadata": {},
   "outputs": [],
   "source": [
    "missing = ordinationData.iloc[:, [i for i, n in enumerate(np.var(ordinationData.isnull(), axis='rows')) if n > 0]]\n",
    "corr_mat = missing.isnull().corr()"
   ]
  }
 ],
 "metadata": {
  "kernelspec": {
   "display_name": "Python 3",
   "language": "python",
   "name": "python3"
  },
  "language_info": {
   "codemirror_mode": {
    "name": "ipython",
    "version": 3
   },
   "file_extension": ".py",
   "mimetype": "text/x-python",
   "name": "python",
   "nbconvert_exporter": "python",
   "pygments_lexer": "ipython3",
   "version": "3.9.21"
  }
 },
 "nbformat": 4,
 "nbformat_minor": 5
}
